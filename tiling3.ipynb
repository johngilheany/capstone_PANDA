{
 "cells": [
  {
   "cell_type": "code",
   "execution_count": 1,
   "id": "eb10f4dd-f69b-435a-b26e-521ecae646cd",
   "metadata": {
    "tags": []
   },
   "outputs": [],
   "source": [
    "import os\n",
    "from tqdm.notebook import tqdm\n",
    "import zipfile\n",
    "import time\n",
    "import skimage.io\n",
    "import numpy as np\n",
    "import pandas as pd\n",
    "import cv2\n",
    "import PIL.Image\n",
    "from sklearn.model_selection import StratifiedKFold\n",
    "import matplotlib.pyplot as plt\n",
    "from sklearn.metrics import cohen_kappa_score\n",
    "from tqdm import tqdm_notebook as tqdm"
   ]
  },
  {
   "cell_type": "code",
   "execution_count": 2,
   "id": "44bb304e-c981-4e05-8f04-5cefb78ac196",
   "metadata": {
    "tags": []
   },
   "outputs": [],
   "source": [
    "data_dir = ''\n",
    "df_train = pd.read_csv(os.path.join(data_dir, 'train.csv'))"
   ]
  },
  {
   "cell_type": "code",
   "execution_count": 3,
   "id": "99967cbd-0d7b-4dbd-b0bf-a1d86d7b4cec",
   "metadata": {
    "tags": []
   },
   "outputs": [],
   "source": [
    "# Image ids in NAME variable with their respective classes in CLASS variable\n",
    "NAME=['0005f7aaab2800f6170c399693a96917','000920ad0b612851f8e01bcc880d9b3d','003046e27c8ead3e3db155780dc5498e','0032bfa835ce0f43a92ae0bbab6871cb','00bbc1482301d16de3ff63238cfd0b34',\n",
    "     '00d7ec94436e3a1416a3b302914957d3','0068d4c7529e34fd4c9da863ce01a161','006f6aa35a78965c92fffd1fbd53a058','0018ae58b01bdadc8e347995b69f99aa','001c62abd11fa4b57bf7a6c603a11bb9',\n",
    "     '00928370e2dfeb8a507667ef1d4efcbb','00c15b23b30a5ba061358d9641118904']\n",
    "CLASS=[0,0,1,1,2,2,3,3,4,4,5,5]"
   ]
  },
  {
   "cell_type": "code",
   "execution_count": 4,
   "id": "47f6a841-dedb-4d5e-b5c6-63497670827c",
   "metadata": {
    "tags": []
   },
   "outputs": [
    {
     "data": {
      "text/html": [
       "<div>\n",
       "<style scoped>\n",
       "    .dataframe tbody tr th:only-of-type {\n",
       "        vertical-align: middle;\n",
       "    }\n",
       "\n",
       "    .dataframe tbody tr th {\n",
       "        vertical-align: top;\n",
       "    }\n",
       "\n",
       "    .dataframe thead th {\n",
       "        text-align: right;\n",
       "    }\n",
       "</style>\n",
       "<table border=\"1\" class=\"dataframe\">\n",
       "  <thead>\n",
       "    <tr style=\"text-align: right;\">\n",
       "      <th></th>\n",
       "      <th>image_id</th>\n",
       "      <th>data_provider</th>\n",
       "      <th>isup_grade</th>\n",
       "      <th>gleason_score</th>\n",
       "    </tr>\n",
       "  </thead>\n",
       "  <tbody>\n",
       "    <tr>\n",
       "      <th>0</th>\n",
       "      <td>0005f7aaab2800f6170c399693a96917</td>\n",
       "      <td>karolinska</td>\n",
       "      <td>0</td>\n",
       "      <td>0+0</td>\n",
       "    </tr>\n",
       "    <tr>\n",
       "      <th>1</th>\n",
       "      <td>000920ad0b612851f8e01bcc880d9b3d</td>\n",
       "      <td>karolinska</td>\n",
       "      <td>0</td>\n",
       "      <td>0+0</td>\n",
       "    </tr>\n",
       "    <tr>\n",
       "      <th>2</th>\n",
       "      <td>003046e27c8ead3e3db155780dc5498e</td>\n",
       "      <td>karolinska</td>\n",
       "      <td>1</td>\n",
       "      <td>3+3</td>\n",
       "    </tr>\n",
       "    <tr>\n",
       "      <th>3</th>\n",
       "      <td>0032bfa835ce0f43a92ae0bbab6871cb</td>\n",
       "      <td>karolinska</td>\n",
       "      <td>1</td>\n",
       "      <td>3+3</td>\n",
       "    </tr>\n",
       "    <tr>\n",
       "      <th>4</th>\n",
       "      <td>00bbc1482301d16de3ff63238cfd0b34</td>\n",
       "      <td>radboud</td>\n",
       "      <td>2</td>\n",
       "      <td>3+4</td>\n",
       "    </tr>\n",
       "    <tr>\n",
       "      <th>5</th>\n",
       "      <td>00d7ec94436e3a1416a3b302914957d3</td>\n",
       "      <td>karolinska</td>\n",
       "      <td>2</td>\n",
       "      <td>3+4</td>\n",
       "    </tr>\n",
       "    <tr>\n",
       "      <th>6</th>\n",
       "      <td>0068d4c7529e34fd4c9da863ce01a161</td>\n",
       "      <td>radboud</td>\n",
       "      <td>3</td>\n",
       "      <td>4+3</td>\n",
       "    </tr>\n",
       "    <tr>\n",
       "      <th>7</th>\n",
       "      <td>006f6aa35a78965c92fffd1fbd53a058</td>\n",
       "      <td>radboud</td>\n",
       "      <td>3</td>\n",
       "      <td>4+3</td>\n",
       "    </tr>\n",
       "    <tr>\n",
       "      <th>8</th>\n",
       "      <td>0018ae58b01bdadc8e347995b69f99aa</td>\n",
       "      <td>radboud</td>\n",
       "      <td>4</td>\n",
       "      <td>4+4</td>\n",
       "    </tr>\n",
       "    <tr>\n",
       "      <th>9</th>\n",
       "      <td>001c62abd11fa4b57bf7a6c603a11bb9</td>\n",
       "      <td>karolinska</td>\n",
       "      <td>4</td>\n",
       "      <td>4+4</td>\n",
       "    </tr>\n",
       "    <tr>\n",
       "      <th>10</th>\n",
       "      <td>00928370e2dfeb8a507667ef1d4efcbb</td>\n",
       "      <td>radboud</td>\n",
       "      <td>5</td>\n",
       "      <td>4+5</td>\n",
       "    </tr>\n",
       "    <tr>\n",
       "      <th>11</th>\n",
       "      <td>00c15b23b30a5ba061358d9641118904</td>\n",
       "      <td>radboud</td>\n",
       "      <td>5</td>\n",
       "      <td>4+5</td>\n",
       "    </tr>\n",
       "  </tbody>\n",
       "</table>\n",
       "</div>"
      ],
      "text/plain": [
       "                            image_id data_provider isup_grade gleason_score\n",
       "0   0005f7aaab2800f6170c399693a96917    karolinska          0           0+0\n",
       "1   000920ad0b612851f8e01bcc880d9b3d    karolinska          0           0+0\n",
       "2   003046e27c8ead3e3db155780dc5498e    karolinska          1           3+3\n",
       "3   0032bfa835ce0f43a92ae0bbab6871cb    karolinska          1           3+3\n",
       "4   00bbc1482301d16de3ff63238cfd0b34       radboud          2           3+4\n",
       "5   00d7ec94436e3a1416a3b302914957d3    karolinska          2           3+4\n",
       "6   0068d4c7529e34fd4c9da863ce01a161       radboud          3           4+3\n",
       "7   006f6aa35a78965c92fffd1fbd53a058       radboud          3           4+3\n",
       "8   0018ae58b01bdadc8e347995b69f99aa       radboud          4           4+4\n",
       "9   001c62abd11fa4b57bf7a6c603a11bb9    karolinska          4           4+4\n",
       "10  00928370e2dfeb8a507667ef1d4efcbb       radboud          5           4+5\n",
       "11  00c15b23b30a5ba061358d9641118904       radboud          5           4+5"
      ]
     },
     "execution_count": 4,
     "metadata": {},
     "output_type": "execute_result"
    }
   ],
   "source": [
    "df=[]\n",
    "count=0\n",
    "for i in NAME:\n",
    " df.append(df_train[df_train['image_id']==i])\n",
    " count+=1\n",
    "df_train=pd.DataFrame(np.array(df).reshape(12,4),columns=['image_id','data_provider','isup_grade','gleason_score'])\n",
    "df_train"
   ]
  },
  {
   "cell_type": "code",
   "execution_count": 14,
   "id": "c80e7e86-9b72-4974-8b7d-ffdc48e5eebf",
   "metadata": {
    "tags": []
   },
   "outputs": [],
   "source": [
    "TRAIN = 'train_images/'\n",
    "MASKS = 'train_label_masks/'\n",
    "OUT_TRAIN = 'zips/train.zip'\n",
    "OUT_MASKS = 'zips/masks.zip'\n",
    "sz = 256 # Size of each tile\n",
    "N = 36 # Total no of tiles"
   ]
  },
  {
   "cell_type": "code",
   "execution_count": 15,
   "id": "2e803f1d-dd94-41ad-81f5-1cc536f703aa",
   "metadata": {
    "tags": []
   },
   "outputs": [],
   "source": [
    "def tile(img, mask):\n",
    "    result = []\n",
    "    shape = img.shape\n",
    "    pad0,pad1 = (sz - shape[0]%sz)%sz, (sz - shape[1]%sz)%sz\n",
    "    img = np.pad(img,[[pad0//2,pad0-pad0//2],[pad1//2,pad1-pad1//2],[0,0]],\n",
    "                constant_values=255)\n",
    "    mask = np.pad(mask,[[pad0//2,pad0-pad0//2],[pad1//2,pad1-pad1//2],[0,0]],\n",
    "                constant_values=0)\n",
    "    img = img.reshape(img.shape[0]//sz,sz,img.shape[1]//sz,sz,3)\n",
    "    img = img.transpose(0,2,1,3,4).reshape(-1,sz,sz,3)\n",
    "    mask = mask.reshape(mask.shape[0]//sz,sz,mask.shape[1]//sz,sz,3)\n",
    "    mask = mask.transpose(0,2,1,3,4).reshape(-1,sz,sz,3)\n",
    "    if len(img) < N:\n",
    "        mask = np.pad(mask,[[0,N-len(img)],[0,0],[0,0],[0,0]],constant_values=0)\n",
    "        img = np.pad(img,[[0,N-len(img)],[0,0],[0,0],[0,0]],constant_values=255)\n",
    "    idxs = np.argsort(img.reshape(img.shape[0],-1).sum(-1))[:N]\n",
    "    img = img[idxs]\n",
    "    mask = mask[idxs]\n",
    "    for i in range(len(img)):\n",
    "        result.append({'img':img[i], 'mask':mask[i], 'idx':i})\n",
    "    return result"
   ]
  },
  {
   "cell_type": "code",
   "execution_count": 16,
   "id": "d2a70f5a-711f-4c8f-ac68-6c17d58edcb8",
   "metadata": {
    "tags": []
   },
   "outputs": [
    {
     "name": "stderr",
     "output_type": "stream",
     "text": [
      "C:\\Users\\johng\\AppData\\Local\\Temp\\ipykernel_16016\\1895463403.py:5: TqdmDeprecationWarning: This function will be removed in tqdm==5.0.0\n",
      "Please use `tqdm.notebook.tqdm` instead of `tqdm.tqdm_notebook`\n",
      "  for name in tqdm(NAME):\n"
     ]
    },
    {
     "data": {
      "application/vnd.jupyter.widget-view+json": {
       "model_id": "fc588c1f9e7c4abcbbc17cfcae80b5b1",
       "version_major": 2,
       "version_minor": 0
      },
      "text/plain": [
       "  0%|          | 0/12 [00:00<?, ?it/s]"
      ]
     },
     "metadata": {},
     "output_type": "display_data"
    }
   ],
   "source": [
    "x_tot,x2_tot = [],[]\n",
    "names = [name[:-10] for name in os.listdir(MASKS)]\n",
    "with zipfile.ZipFile(OUT_TRAIN, 'w') as img_out,\\\n",
    " zipfile.ZipFile(OUT_MASKS, 'w') as mask_out:\n",
    "    for name in tqdm(NAME):\n",
    "        img = skimage.io.MultiImage(os.path.join(TRAIN,name+'.tiff'))[-1]\n",
    "        mask = skimage.io.MultiImage(os.path.join(MASKS,name+'_mask.tiff'))[-1]\n",
    "        tiles = tile(img,mask)\n",
    "        for t in tiles:\n",
    "            img,mask,idx = t['img'],t['mask'],t['idx']\n",
    "            x_tot.append((img/255.0).reshape(-1,3).mean(0))\n",
    "            x2_tot.append(((img/255.0)**2).reshape(-1,3).mean(0)) \n",
    "            #if read with PIL RGB turns into BGR\n",
    "            img = cv2.imencode('.png',cv2.cvtColor(img, cv2.COLOR_RGB2BGR))[1]\n",
    "            img_out.writestr(f'{name}_{idx}.png', img)\n",
    "            mask = cv2.imencode('.png',mask[:,:,0])[1]\n",
    "            mask_out.writestr(f'{name}_{idx}.png', mask)"
   ]
  },
  {
   "cell_type": "code",
   "execution_count": 18,
   "id": "a100c89d-87b4-4a56-b38f-64cdca2f9c68",
   "metadata": {
    "tags": []
   },
   "outputs": [
    {
     "name": "stdout",
     "output_type": "stream",
     "text": [
      "^C\n"
     ]
    }
   ],
   "source": [
    "! unzip 'zips/train.zip'"
   ]
  },
  {
   "cell_type": "code",
   "execution_count": 19,
   "id": "64cabe1f-7f8c-4269-854e-5a1e056da658",
   "metadata": {
    "tags": []
   },
   "outputs": [],
   "source": [
    "# loading all the tile images into img_train array with 12 rows\n",
    "import cv2\n",
    "out_dir=''\n",
    "img_train=np.empty((12,6*256,6*256,3))\n",
    "count=-1\n",
    "for i in NAME:\n",
    "   img_var=[]\n",
    "   count+=1\n",
    "   for j in range(0,36): \n",
    "     img_var.append(cv2.imread(out_dir+str(i)+'_'+str(j)+'.png'))\n",
    "   img_var=np.array(img_var)\n",
    "   img_var=img_var.reshape(6*256,6*256,3)\n",
    "   img_train[count]=img_var"
   ]
  },
  {
   "cell_type": "code",
   "execution_count": 20,
   "id": "4f3fdf85-1a86-437f-8f62-d2bd2bd924ee",
   "metadata": {
    "tags": []
   },
   "outputs": [],
   "source": [
    "img_train=img_train.reshape(12,-1) # for smote function to work, it requires only 2 dimensional array\n"
   ]
  },
  {
   "cell_type": "code",
   "execution_count": 25,
   "id": "0457f8eb-d6df-4305-b192-ed40471bca26",
   "metadata": {
    "tags": []
   },
   "outputs": [
    {
     "ename": "ImportError",
     "evalue": "cannot import name '_check_X' from 'imblearn.utils._validation' (C:\\Users\\johng\\anaconda3\\Lib\\site-packages\\imblearn\\utils\\_validation.py)",
     "output_type": "error",
     "traceback": [
      "\u001b[1;31m---------------------------------------------------------------------------\u001b[0m",
      "\u001b[1;31mImportError\u001b[0m                               Traceback (most recent call last)",
      "Cell \u001b[1;32mIn[25], line 3\u001b[0m\n\u001b[0;32m      1\u001b[0m \u001b[38;5;66;03m# 12 to 24 images using smote analysis\u001b[39;00m\n\u001b[0;32m      2\u001b[0m \u001b[38;5;28;01mfrom\u001b[39;00m \u001b[38;5;21;01mcollections\u001b[39;00m \u001b[38;5;28;01mimport\u001b[39;00m Counter\n\u001b[1;32m----> 3\u001b[0m \u001b[38;5;28;01mfrom\u001b[39;00m \u001b[38;5;21;01mimblearn\u001b[39;00m\u001b[38;5;21;01m.\u001b[39;00m\u001b[38;5;21;01mover_sampling\u001b[39;00m \u001b[38;5;28;01mimport\u001b[39;00m SMOTE\n\u001b[0;32m      4\u001b[0m counter \u001b[38;5;241m=\u001b[39m Counter(CLASS)\n\u001b[0;32m      5\u001b[0m \u001b[38;5;28mprint\u001b[39m(\u001b[38;5;124m'\u001b[39m\u001b[38;5;124mBefore\u001b[39m\u001b[38;5;124m'\u001b[39m,counter)\n",
      "File \u001b[1;32m~\\anaconda3\\Lib\\site-packages\\imblearn\\__init__.py:52\u001b[0m\n\u001b[0;32m     48\u001b[0m     sys\u001b[38;5;241m.\u001b[39mstderr\u001b[38;5;241m.\u001b[39mwrite(\u001b[38;5;124m\"\u001b[39m\u001b[38;5;124mPartial import of imblearn during the build process.\u001b[39m\u001b[38;5;130;01m\\n\u001b[39;00m\u001b[38;5;124m\"\u001b[39m)\n\u001b[0;32m     49\u001b[0m     \u001b[38;5;66;03m# We are not importing the rest of scikit-learn during the build\u001b[39;00m\n\u001b[0;32m     50\u001b[0m     \u001b[38;5;66;03m# process, as it may not be compiled yet\u001b[39;00m\n\u001b[0;32m     51\u001b[0m \u001b[38;5;28;01melse\u001b[39;00m:\n\u001b[1;32m---> 52\u001b[0m     \u001b[38;5;28;01mfrom\u001b[39;00m \u001b[38;5;21;01m.\u001b[39;00m \u001b[38;5;28;01mimport\u001b[39;00m (\n\u001b[0;32m     53\u001b[0m         combine,\n\u001b[0;32m     54\u001b[0m         ensemble,\n\u001b[0;32m     55\u001b[0m         exceptions,\n\u001b[0;32m     56\u001b[0m         metrics,\n\u001b[0;32m     57\u001b[0m         over_sampling,\n\u001b[0;32m     58\u001b[0m         pipeline,\n\u001b[0;32m     59\u001b[0m         tensorflow,\n\u001b[0;32m     60\u001b[0m         under_sampling,\n\u001b[0;32m     61\u001b[0m         utils,\n\u001b[0;32m     62\u001b[0m     )\n\u001b[0;32m     63\u001b[0m     \u001b[38;5;28;01mfrom\u001b[39;00m \u001b[38;5;21;01m.\u001b[39;00m\u001b[38;5;21;01m_version\u001b[39;00m \u001b[38;5;28;01mimport\u001b[39;00m __version__\n\u001b[0;32m     64\u001b[0m     \u001b[38;5;28;01mfrom\u001b[39;00m \u001b[38;5;21;01m.\u001b[39;00m\u001b[38;5;21;01mbase\u001b[39;00m \u001b[38;5;28;01mimport\u001b[39;00m FunctionSampler\n",
      "File \u001b[1;32m~\\anaconda3\\Lib\\site-packages\\imblearn\\combine\\__init__.py:5\u001b[0m\n\u001b[0;32m      1\u001b[0m \u001b[38;5;124;03m\"\"\"The :mod:`imblearn.combine` provides methods which combine\u001b[39;00m\n\u001b[0;32m      2\u001b[0m \u001b[38;5;124;03mover-sampling and under-sampling.\u001b[39;00m\n\u001b[0;32m      3\u001b[0m \u001b[38;5;124;03m\"\"\"\u001b[39;00m\n\u001b[1;32m----> 5\u001b[0m \u001b[38;5;28;01mfrom\u001b[39;00m \u001b[38;5;21;01m.\u001b[39;00m\u001b[38;5;21;01m_smote_enn\u001b[39;00m \u001b[38;5;28;01mimport\u001b[39;00m SMOTEENN\n\u001b[0;32m      6\u001b[0m \u001b[38;5;28;01mfrom\u001b[39;00m \u001b[38;5;21;01m.\u001b[39;00m\u001b[38;5;21;01m_smote_tomek\u001b[39;00m \u001b[38;5;28;01mimport\u001b[39;00m SMOTETomek\n\u001b[0;32m      8\u001b[0m __all__ \u001b[38;5;241m=\u001b[39m [\u001b[38;5;124m\"\u001b[39m\u001b[38;5;124mSMOTEENN\u001b[39m\u001b[38;5;124m\"\u001b[39m, \u001b[38;5;124m\"\u001b[39m\u001b[38;5;124mSMOTETomek\u001b[39m\u001b[38;5;124m\"\u001b[39m]\n",
      "File \u001b[1;32m~\\anaconda3\\Lib\\site-packages\\imblearn\\combine\\_smote_enn.py:13\u001b[0m\n\u001b[0;32m     10\u001b[0m \u001b[38;5;28;01mfrom\u001b[39;00m \u001b[38;5;21;01msklearn\u001b[39;00m\u001b[38;5;21;01m.\u001b[39;00m\u001b[38;5;21;01mutils\u001b[39;00m \u001b[38;5;28;01mimport\u001b[39;00m check_X_y\n\u001b[0;32m     12\u001b[0m \u001b[38;5;28;01mfrom\u001b[39;00m \u001b[38;5;21;01m.\u001b[39;00m\u001b[38;5;21;01m.\u001b[39;00m\u001b[38;5;21;01mbase\u001b[39;00m \u001b[38;5;28;01mimport\u001b[39;00m BaseSampler\n\u001b[1;32m---> 13\u001b[0m \u001b[38;5;28;01mfrom\u001b[39;00m \u001b[38;5;21;01m.\u001b[39;00m\u001b[38;5;21;01m.\u001b[39;00m\u001b[38;5;21;01mover_sampling\u001b[39;00m \u001b[38;5;28;01mimport\u001b[39;00m SMOTE\n\u001b[0;32m     14\u001b[0m \u001b[38;5;28;01mfrom\u001b[39;00m \u001b[38;5;21;01m.\u001b[39;00m\u001b[38;5;21;01m.\u001b[39;00m\u001b[38;5;21;01mover_sampling\u001b[39;00m\u001b[38;5;21;01m.\u001b[39;00m\u001b[38;5;21;01mbase\u001b[39;00m \u001b[38;5;28;01mimport\u001b[39;00m BaseOverSampler\n\u001b[0;32m     15\u001b[0m \u001b[38;5;28;01mfrom\u001b[39;00m \u001b[38;5;21;01m.\u001b[39;00m\u001b[38;5;21;01m.\u001b[39;00m\u001b[38;5;21;01munder_sampling\u001b[39;00m \u001b[38;5;28;01mimport\u001b[39;00m EditedNearestNeighbours\n",
      "File \u001b[1;32m~\\anaconda3\\Lib\\site-packages\\imblearn\\over_sampling\\__init__.py:7\u001b[0m\n\u001b[0;32m      1\u001b[0m \u001b[38;5;124;03m\"\"\"\u001b[39;00m\n\u001b[0;32m      2\u001b[0m \u001b[38;5;124;03mThe :mod:`imblearn.over_sampling` provides a set of method to\u001b[39;00m\n\u001b[0;32m      3\u001b[0m \u001b[38;5;124;03mperform over-sampling.\u001b[39;00m\n\u001b[0;32m      4\u001b[0m \u001b[38;5;124;03m\"\"\"\u001b[39;00m\n\u001b[0;32m      6\u001b[0m \u001b[38;5;28;01mfrom\u001b[39;00m \u001b[38;5;21;01m.\u001b[39;00m\u001b[38;5;21;01m_adasyn\u001b[39;00m \u001b[38;5;28;01mimport\u001b[39;00m ADASYN\n\u001b[1;32m----> 7\u001b[0m \u001b[38;5;28;01mfrom\u001b[39;00m \u001b[38;5;21;01m.\u001b[39;00m\u001b[38;5;21;01m_random_over_sampler\u001b[39;00m \u001b[38;5;28;01mimport\u001b[39;00m RandomOverSampler\n\u001b[0;32m      8\u001b[0m \u001b[38;5;28;01mfrom\u001b[39;00m \u001b[38;5;21;01m.\u001b[39;00m\u001b[38;5;21;01m_smote\u001b[39;00m \u001b[38;5;28;01mimport\u001b[39;00m SMOTE, SMOTEN, SMOTENC, SVMSMOTE, BorderlineSMOTE, KMeansSMOTE\n\u001b[0;32m     10\u001b[0m __all__ \u001b[38;5;241m=\u001b[39m [\n\u001b[0;32m     11\u001b[0m     \u001b[38;5;124m\"\u001b[39m\u001b[38;5;124mADASYN\u001b[39m\u001b[38;5;124m\"\u001b[39m,\n\u001b[0;32m     12\u001b[0m     \u001b[38;5;124m\"\u001b[39m\u001b[38;5;124mRandomOverSampler\u001b[39m\u001b[38;5;124m\"\u001b[39m,\n\u001b[1;32m   (...)\u001b[0m\n\u001b[0;32m     18\u001b[0m     \u001b[38;5;124m\"\u001b[39m\u001b[38;5;124mSMOTEN\u001b[39m\u001b[38;5;124m\"\u001b[39m,\n\u001b[0;32m     19\u001b[0m ]\n",
      "File \u001b[1;32m~\\anaconda3\\Lib\\site-packages\\imblearn\\over_sampling\\_random_over_sampler.py:18\u001b[0m\n\u001b[0;32m     16\u001b[0m \u001b[38;5;28;01mfrom\u001b[39;00m \u001b[38;5;21;01m.\u001b[39;00m\u001b[38;5;21;01m.\u001b[39;00m\u001b[38;5;21;01mutils\u001b[39;00m\u001b[38;5;21;01m.\u001b[39;00m\u001b[38;5;21;01m_docstring\u001b[39;00m \u001b[38;5;28;01mimport\u001b[39;00m _random_state_docstring\n\u001b[0;32m     17\u001b[0m \u001b[38;5;28;01mfrom\u001b[39;00m \u001b[38;5;21;01m.\u001b[39;00m\u001b[38;5;21;01m.\u001b[39;00m\u001b[38;5;21;01mutils\u001b[39;00m\u001b[38;5;21;01m.\u001b[39;00m\u001b[38;5;21;01m_param_validation\u001b[39;00m \u001b[38;5;28;01mimport\u001b[39;00m Interval\n\u001b[1;32m---> 18\u001b[0m \u001b[38;5;28;01mfrom\u001b[39;00m \u001b[38;5;21;01m.\u001b[39;00m\u001b[38;5;21;01m.\u001b[39;00m\u001b[38;5;21;01mutils\u001b[39;00m\u001b[38;5;21;01m.\u001b[39;00m\u001b[38;5;21;01m_validation\u001b[39;00m \u001b[38;5;28;01mimport\u001b[39;00m _check_X\n\u001b[0;32m     19\u001b[0m \u001b[38;5;28;01mfrom\u001b[39;00m \u001b[38;5;21;01m.\u001b[39;00m\u001b[38;5;21;01mbase\u001b[39;00m \u001b[38;5;28;01mimport\u001b[39;00m BaseOverSampler\n\u001b[0;32m     22\u001b[0m \u001b[38;5;129m@Substitution\u001b[39m(\n\u001b[0;32m     23\u001b[0m     sampling_strategy\u001b[38;5;241m=\u001b[39mBaseOverSampler\u001b[38;5;241m.\u001b[39m_sampling_strategy_docstring,\n\u001b[0;32m     24\u001b[0m     random_state\u001b[38;5;241m=\u001b[39m_random_state_docstring,\n\u001b[0;32m     25\u001b[0m )\n\u001b[0;32m     26\u001b[0m \u001b[38;5;28;01mclass\u001b[39;00m \u001b[38;5;21;01mRandomOverSampler\u001b[39;00m(BaseOverSampler):\n",
      "\u001b[1;31mImportError\u001b[0m: cannot import name '_check_X' from 'imblearn.utils._validation' (C:\\Users\\johng\\anaconda3\\Lib\\site-packages\\imblearn\\utils\\_validation.py)"
     ]
    }
   ],
   "source": [
    "# 12 to 24 images using smote analysis\n",
    "from collections import Counter\n",
    "from imblearn.over_sampling import SMOTE\n",
    "counter = Counter(CLASS)\n",
    "print('Before',counter)\n",
    "# oversampling the train dataset using SMOTE\n",
    "smt = SMOTE(sampling_strategy={0:4,1:4,2:4,3:4,4:4,5:4},k_neighbors=1)\n",
    "#X_train, y_train = smt.fit_resample(X_train, y_train)\n",
    "X_train_sm, y_train_sm = smt.fit_resample(img_train, CLASS)\n",
    "\n",
    "counter = Counter(y_train_sm)\n",
    "print('After',counter)"
   ]
  },
  {
   "cell_type": "code",
   "execution_count": 22,
   "id": "61c42741-2ae8-4791-ac63-c20ea8c67cab",
   "metadata": {
    "tags": []
   },
   "outputs": [
    {
     "ename": "NameError",
     "evalue": "name 'X_train_sm' is not defined",
     "output_type": "error",
     "traceback": [
      "\u001b[1;31m---------------------------------------------------------------------------\u001b[0m",
      "\u001b[1;31mNameError\u001b[0m                                 Traceback (most recent call last)",
      "Cell \u001b[1;32mIn[22], line 1\u001b[0m\n\u001b[1;32m----> 1\u001b[0m X_train\u001b[38;5;241m=\u001b[39mX_train_sm\u001b[38;5;241m.\u001b[39mreshape(\u001b[38;5;241m24\u001b[39m,\u001b[38;5;241m6\u001b[39m\u001b[38;5;241m*\u001b[39m\u001b[38;5;241m256\u001b[39m,\u001b[38;5;241m6\u001b[39m\u001b[38;5;241m*\u001b[39m\u001b[38;5;241m256\u001b[39m,\u001b[38;5;241m3\u001b[39m)\n",
      "\u001b[1;31mNameError\u001b[0m: name 'X_train_sm' is not defined"
     ]
    }
   ],
   "source": [
    "X_train=X_train_sm.reshape(24,6*256,6*256,3) # reshaping array after completion of smote analysis\n"
   ]
  },
  {
   "cell_type": "code",
   "execution_count": null,
   "id": "e62c47cf-9925-4a94-8525-3b957f625c87",
   "metadata": {},
   "outputs": [],
   "source": []
  },
  {
   "cell_type": "code",
   "execution_count": null,
   "id": "d9659980-1d90-4091-b603-95bb085d448c",
   "metadata": {},
   "outputs": [],
   "source": []
  }
 ],
 "metadata": {
  "kernelspec": {
   "display_name": "Python 3 (ipykernel)",
   "language": "python",
   "name": "python3"
  },
  "language_info": {
   "codemirror_mode": {
    "name": "ipython",
    "version": 3
   },
   "file_extension": ".py",
   "mimetype": "text/x-python",
   "name": "python",
   "nbconvert_exporter": "python",
   "pygments_lexer": "ipython3",
   "version": "3.11.5"
  }
 },
 "nbformat": 4,
 "nbformat_minor": 5
}
