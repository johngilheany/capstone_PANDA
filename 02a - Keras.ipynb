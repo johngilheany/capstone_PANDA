{
 "cells": [
  {
   "cell_type": "code",
   "execution_count": 1,
   "id": "a8eb483d-d1cb-4d2a-bf6d-7d5103b1aa60",
   "metadata": {
    "tags": []
   },
   "outputs": [
    {
     "name": "stdout",
     "output_type": "stream",
     "text": [
      "WARNING:tensorflow:From C:\\Users\\johng\\anaconda3\\Lib\\site-packages\\keras\\src\\losses.py:2976: The name tf.losses.sparse_softmax_cross_entropy is deprecated. Please use tf.compat.v1.losses.sparse_softmax_cross_entropy instead.\n",
      "\n"
     ]
    }
   ],
   "source": [
    "import os\n",
    "import shutil\n",
    "\n",
    "import numpy as np\n",
    "import pandas as pd\n",
    "import matplotlib.pyplot as plt\n",
    "\n",
    "from tensorflow import keras\n",
    "from tensorflow.keras.layers import Conv2D, MaxPooling2D, Flatten, Dense, Dropout\n",
    "from tensorflow.keras.callbacks import EarlyStopping\n",
    "from tensorflow.keras.utils import image_dataset_from_directory"
   ]
  },
  {
   "cell_type": "code",
   "execution_count": 2,
   "id": "804c8735-eea0-47d8-8274-cc53bba152a7",
   "metadata": {
    "tags": []
   },
   "outputs": [
    {
     "name": "stdout",
     "output_type": "stream",
     "text": [
      "Found 378307 files belonging to 2 classes.\n",
      "Using 264815 files for training.\n",
      "Found 378307 files belonging to 2 classes.\n",
      "Using 113492 files for validation.\n"
     ]
    }
   ],
   "source": [
    "train_ds = image_dataset_from_directory(\n",
    "    'data/tiled_images/keras',\n",
    "    batch_size=32,\n",
    "    subset='training',\n",
    "    seed=123,\n",
    "    validation_split=0.3\n",
    ").map(lambda x, y: (x/255, y))\n",
    "\n",
    "val_ds = image_dataset_from_directory(\n",
    "    'data/tiled_images/keras',\n",
    "    batch_size=32,\n",
    "    subset='validation',\n",
    "    seed=123,\n",
    "    validation_split=0.3\n",
    ").map(lambda x, y: (x/255, y))"
   ]
  },
  {
   "cell_type": "code",
   "execution_count": 51,
   "id": "dbc151fe-723d-4d71-9eae-3135f287ab35",
   "metadata": {
    "tags": []
   },
   "outputs": [
    {
     "name": "stdout",
     "output_type": "stream",
     "text": [
      "Found 295 files belonging to 2 classes.\n",
      "Using 236 files for training.\n",
      "Found 295 files belonging to 2 classes.\n",
      "Using 59 files for validation.\n"
     ]
    }
   ],
   "source": [
    "# train_ds = image_dataset_from_directory(\n",
    "#     'data/keras_subset',\n",
    "#     batch_size=32,\n",
    "#     subset='training',\n",
    "#     seed=123,\n",
    "#     validation_split=0.2\n",
    "# ).map(lambda x, y: (x/255, y))\n",
    "\n",
    "# val_ds = image_dataset_from_directory(\n",
    "#     'data/keras_subset',\n",
    "#     batch_size=32,\n",
    "#     subset='validation',\n",
    "#     seed=123,\n",
    "#     validation_split=0.2\n",
    "# ).map(lambda x, y: (x/255, y))"
   ]
  },
  {
   "cell_type": "code",
   "execution_count": 3,
   "id": "d6e110e1-506f-4261-8695-9363f4dcf7d6",
   "metadata": {
    "tags": []
   },
   "outputs": [
    {
     "name": "stdout",
     "output_type": "stream",
     "text": [
      "WARNING:tensorflow:From C:\\Users\\johng\\anaconda3\\Lib\\site-packages\\keras\\src\\backend.py:873: The name tf.get_default_graph is deprecated. Please use tf.compat.v1.get_default_graph instead.\n",
      "\n",
      "WARNING:tensorflow:From C:\\Users\\johng\\anaconda3\\Lib\\site-packages\\keras\\src\\layers\\pooling\\max_pooling2d.py:161: The name tf.nn.max_pool is deprecated. Please use tf.nn.max_pool2d instead.\n",
      "\n",
      "WARNING:tensorflow:From C:\\Users\\johng\\anaconda3\\Lib\\site-packages\\keras\\src\\optimizers\\__init__.py:309: The name tf.train.Optimizer is deprecated. Please use tf.compat.v1.train.Optimizer instead.\n",
      "\n"
     ]
    }
   ],
   "source": [
    "model = keras.models.Sequential([\n",
    "    Conv2D(25, 3, activation='relu', input_shape=(256, 256, 3)),\n",
    "    MaxPooling2D(2),\n",
    "    Conv2D(50, 3, activation='relu'),\n",
    "    MaxPooling2D(2),\n",
    "    Conv2D(100, 3, activation='relu'),\n",
    "    MaxPooling2D(2),    \n",
    "    Flatten(),\n",
    "    # Dense(16, activation='relu'),\n",
    "    # Dropout(0.2),\n",
    "    Dense(1, activation='sigmoid')\n",
    "])\n",
    "\n",
    "\n",
    "es = EarlyStopping(monitor = 'val_loss', patience = 2)\n",
    "\n",
    "model.compile(\n",
    "    loss='bce',\n",
    "    optimizer='rmsprop',\n",
    "    metrics=['acc']\n",
    ")\n"
   ]
  },
  {
   "cell_type": "code",
   "execution_count": 4,
   "id": "6eb7cb7c-e0e6-46f5-b0bf-119506110cdb",
   "metadata": {
    "tags": []
   },
   "outputs": [
    {
     "name": "stdout",
     "output_type": "stream",
     "text": [
      "Epoch 1/5\n",
      "WARNING:tensorflow:From C:\\Users\\johng\\anaconda3\\Lib\\site-packages\\keras\\src\\utils\\tf_utils.py:492: The name tf.ragged.RaggedTensorValue is deprecated. Please use tf.compat.v1.ragged.RaggedTensorValue instead.\n",
      "\n",
      "WARNING:tensorflow:From C:\\Users\\johng\\anaconda3\\Lib\\site-packages\\keras\\src\\engine\\base_layer_utils.py:384: The name tf.executing_eagerly_outside_functions is deprecated. Please use tf.compat.v1.executing_eagerly_outside_functions instead.\n",
      "\n",
      "8276/8276 [==============================] - 6717s 811ms/step - loss: 0.5102 - acc: 0.7624 - val_loss: 0.4413 - val_acc: 0.8057\n",
      "Epoch 2/5\n",
      "8276/8276 [==============================] - 6663s 805ms/step - loss: 0.4808 - acc: 0.7916 - val_loss: 0.6507 - val_acc: 0.7580\n",
      "Epoch 3/5\n",
      "8276/8276 [==============================] - 5843s 706ms/step - loss: 0.4969 - acc: 0.7854 - val_loss: 0.4829 - val_acc: 0.7771\n"
     ]
    }
   ],
   "source": [
    "history = model.fit(train_ds, validation_data=val_ds, epochs=5, callbacks=[es])"
   ]
  },
  {
   "cell_type": "code",
   "execution_count": 5,
   "id": "4eaf7e7d-595c-4b6b-acb3-7df17896dc4b",
   "metadata": {
    "tags": []
   },
   "outputs": [
    {
     "name": "stdout",
     "output_type": "stream",
     "text": [
      "Model: \"sequential\"\n",
      "_________________________________________________________________\n",
      " Layer (type)                Output Shape              Param #   \n",
      "=================================================================\n",
      " conv2d (Conv2D)             (None, 254, 254, 25)      700       \n",
      "                                                                 \n",
      " max_pooling2d (MaxPooling2  (None, 127, 127, 25)      0         \n",
      " D)                                                              \n",
      "                                                                 \n",
      " conv2d_1 (Conv2D)           (None, 125, 125, 50)      11300     \n",
      "                                                                 \n",
      " max_pooling2d_1 (MaxPoolin  (None, 62, 62, 50)        0         \n",
      " g2D)                                                            \n",
      "                                                                 \n",
      " conv2d_2 (Conv2D)           (None, 60, 60, 100)       45100     \n",
      "                                                                 \n",
      " max_pooling2d_2 (MaxPoolin  (None, 30, 30, 100)       0         \n",
      " g2D)                                                            \n",
      "                                                                 \n",
      " flatten (Flatten)           (None, 90000)             0         \n",
      "                                                                 \n",
      " dense (Dense)               (None, 1)                 90001     \n",
      "                                                                 \n",
      "=================================================================\n",
      "Total params: 147101 (574.61 KB)\n",
      "Trainable params: 147101 (574.61 KB)\n",
      "Non-trainable params: 0 (0.00 Byte)\n",
      "_________________________________________________________________\n"
     ]
    }
   ],
   "source": [
    "model.summary()"
   ]
  },
  {
   "cell_type": "code",
   "execution_count": 6,
   "id": "5063548d-e97e-4ec7-9334-3cf54ad23a48",
   "metadata": {
    "tags": []
   },
   "outputs": [
    {
     "data": {
      "image/png": "[encoded data removed]",
      "text/plain": [
       "<Figure size 1200x600 with 1 Axes>"
      ]
     },
     "metadata": {},
     "output_type": "display_data"
    }
   ],
   "source": [
    "# Check out the plot of loss vs epoch. How's our model?\n",
    "plt.figure(figsize=(12, 6))\n",
    "plt.plot(history.history['loss'], c='navy', label='Training Loss')\n",
    "plt.plot(history.history['val_loss'], c='skyblue', label='Validation Loss')\n",
    "plt.legend();"
   ]
  }
 ],
 "metadata": {
  "kernelspec": {
   "display_name": "Python 3 (ipykernel)",
   "language": "python",
   "name": "python3"
  },
  "language_info": {
   "codemirror_mode": {
    "name": "ipython",
    "version": 3
   },
   "file_extension": ".py",
   "mimetype": "text/x-python",
   "name": "python",
   "nbconvert_exporter": "python",
   "pygments_lexer": "ipython3",
   "version": "3.11.5"
  }
 },
 "nbformat": 4,
 "nbformat_minor": 5
}
