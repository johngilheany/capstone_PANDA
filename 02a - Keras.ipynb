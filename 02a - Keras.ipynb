{
 "cells": [
  {
   "cell_type": "code",
   "execution_count": 2,
   "id": "a8eb483d-d1cb-4d2a-bf6d-7d5103b1aa60",
   "metadata": {
    "tags": []
   },
   "outputs": [
    {
     "name": "stdout",
     "output_type": "stream",
     "text": [
      "WARNING:tensorflow:From C:\\Users\\johng\\anaconda3\\Lib\\site-packages\\keras\\src\\losses.py:2976: The name tf.losses.sparse_softmax_cross_entropy is deprecated. Please use tf.compat.v1.losses.sparse_softmax_cross_entropy instead.\n",
      "\n"
     ]
    }
   ],
   "source": [
    "import os\n",
    "import shutil\n",
    "\n",
    "import numpy as np\n",
    "import pandas as pd\n",
    "import matplotlib.pyplot as plt\n",
    "\n",
    "from tensorflow import keras\n",
    "from tensorflow.keras.layers import Conv2D, MaxPooling2D, Flatten, Dense, Dropout\n",
    "from tensorflow.keras.callbacks import ModelCheckpoint, EarlyStopping\n",
    "from tensorflow.keras.utils import image_dataset_from_directory"
   ]
  },
  {
   "cell_type": "code",
   "execution_count": 3,
   "id": "804c8735-eea0-47d8-8274-cc53bba152a7",
   "metadata": {
    "tags": []
   },
   "outputs": [
    {
     "name": "stdout",
     "output_type": "stream",
     "text": [
      "Found 378307 files belonging to 2 classes.\n",
      "Using 264815 files for training.\n",
      "Found 378307 files belonging to 2 classes.\n",
      "Using 113492 files for validation.\n"
     ]
    }
   ],
   "source": [
    "train_ds = image_dataset_from_directory(\n",
    "    'data/tiled_images/keras',\n",
    "    batch_size=32,\n",
    "    subset='training',\n",
    "    seed=123,\n",
    "    validation_split=0.3\n",
    ").map(lambda x, y: (x/255, y))\n",
    "\n",
    "val_ds = image_dataset_from_directory(\n",
    "    'data/tiled_images/keras',\n",
    "    batch_size=32,\n",
    "    subset='validation',\n",
    "    seed=123,\n",
    "    validation_split=0.3\n",
    ").map(lambda x, y: (x/255, y))"
   ]
  },
  {
   "cell_type": "code",
   "execution_count": 4,
   "id": "dbc151fe-723d-4d71-9eae-3135f287ab35",
   "metadata": {
    "jupyter": {
     "source_hidden": true
    },
    "tags": []
   },
   "outputs": [],
   "source": [
    "# train_ds = image_dataset_from_directory(\n",
    "#     'data/keras_subset',\n",
    "#     batch_size=32,\n",
    "#     subset='training',\n",
    "#     seed=123,\n",
    "#     validation_split=0.2\n",
    "# ).map(lambda x, y: (x/255, y))\n",
    "\n",
    "# val_ds = image_dataset_from_directory(\n",
    "#     'data/keras_subset',\n",
    "#     batch_size=32,\n",
    "#     subset='validation',\n",
    "#     seed=123,\n",
    "#     validation_split=0.2\n",
    "# ).map(lambda x, y: (x/255, y))"
   ]
  },
  {
   "cell_type": "code",
   "execution_count": 5,
   "id": "d6e110e1-506f-4261-8695-9363f4dcf7d6",
   "metadata": {
    "tags": []
   },
   "outputs": [
    {
     "name": "stdout",
     "output_type": "stream",
     "text": [
      "WARNING:tensorflow:From C:\\Users\\johng\\anaconda3\\Lib\\site-packages\\keras\\src\\backend.py:873: The name tf.get_default_graph is deprecated. Please use tf.compat.v1.get_default_graph instead.\n",
      "\n",
      "WARNING:tensorflow:From C:\\Users\\johng\\anaconda3\\Lib\\site-packages\\keras\\src\\layers\\pooling\\max_pooling2d.py:161: The name tf.nn.max_pool is deprecated. Please use tf.nn.max_pool2d instead.\n",
      "\n",
      "WARNING:tensorflow:From C:\\Users\\johng\\anaconda3\\Lib\\site-packages\\keras\\src\\optimizers\\__init__.py:309: The name tf.train.Optimizer is deprecated. Please use tf.compat.v1.train.Optimizer instead.\n",
      "\n"
     ]
    }
   ],
   "source": [
    "model1 = keras.models.Sequential([\n",
    "    Conv2D(32, 3, activation='relu', input_shape=(256, 256, 3)),\n",
    "    MaxPooling2D(2),\n",
    "    Conv2D(64, 3, activation='relu'),\n",
    "    MaxPooling2D(2),\n",
    "    Conv2D(128, 3, activation='relu'),\n",
    "    MaxPooling2D(2),    \n",
    "    Flatten(),\n",
    "    Dense(1, activation='sigmoid')\n",
    "])\n",
    "\n",
    "es = EarlyStopping(monitor = 'val_loss', patience = 3)\n",
    "cp = ModelCheckpoint(filepath='model1_checkpoint.keras', monitor='val_acc', save_best_only=True, mode='max', verbose=1)\n",
    "\n",
    "model1.compile(loss='bce', optimizer='Adam', metrics=['acc'])"
   ]
  },
  {
   "cell_type": "code",
   "execution_count": 6,
   "id": "6eb7cb7c-e0e6-46f5-b0bf-119506110cdb",
   "metadata": {
    "tags": []
   },
   "outputs": [
    {
     "name": "stdout",
     "output_type": "stream",
     "text": [
      "Epoch 1/5\n",
      "WARNING:tensorflow:From C:\\Users\\johng\\anaconda3\\Lib\\site-packages\\keras\\src\\utils\\tf_utils.py:492: The name tf.ragged.RaggedTensorValue is deprecated. Please use tf.compat.v1.ragged.RaggedTensorValue instead.\n",
      "\n",
      "WARNING:tensorflow:From C:\\Users\\johng\\anaconda3\\Lib\\site-packages\\keras\\src\\engine\\base_layer_utils.py:384: The name tf.executing_eagerly_outside_functions is deprecated. Please use tf.compat.v1.executing_eagerly_outside_functions instead.\n",
      "\n",
      "8276/8276 [==============================] - ETA: 0s - loss: 0.5092 - acc: 0.7587\n",
      "Epoch 1: val_acc improved from -inf to 0.78929, saving model to model1_checkpoint.keras\n",
      "8276/8276 [==============================] - 5354s 647ms/step - loss: 0.5092 - acc: 0.7587 - val_loss: 0.4623 - val_acc: 0.7893\n",
      "Epoch 2/5\n",
      "8276/8276 [==============================] - ETA: 0s - loss: 0.4537 - acc: 0.7995\n",
      "Epoch 2: val_acc improved from 0.78929 to 0.81373, saving model to model1_checkpoint.keras\n",
      "8276/8276 [==============================] - 5277s 638ms/step - loss: 0.4537 - acc: 0.7995 - val_loss: 0.4372 - val_acc: 0.8137\n",
      "Epoch 3/5\n",
      "8276/8276 [==============================] - ETA: 0s - loss: 0.4333 - acc: 0.8129\n",
      "Epoch 3: val_acc improved from 0.81373 to 0.82102, saving model to model1_checkpoint.keras\n",
      "8276/8276 [==============================] - 5269s 637ms/step - loss: 0.4333 - acc: 0.8129 - val_loss: 0.4261 - val_acc: 0.8210\n",
      "Epoch 4/5\n",
      "8276/8276 [==============================] - ETA: 0s - loss: 0.4143 - acc: 0.8259\n",
      "Epoch 4: val_acc improved from 0.82102 to 0.82806, saving model to model1_checkpoint.keras\n",
      "8276/8276 [==============================] - 5279s 638ms/step - loss: 0.4143 - acc: 0.8259 - val_loss: 0.4152 - val_acc: 0.8281\n",
      "Epoch 5/5\n",
      "8276/8276 [==============================] - ETA: 0s - loss: 0.4012 - acc: 0.8335\n",
      "Epoch 5: val_acc improved from 0.82806 to 0.83528, saving model to model1_checkpoint.keras\n",
      "8276/8276 [==============================] - 5277s 638ms/step - loss: 0.4012 - acc: 0.8335 - val_loss: 0.4101 - val_acc: 0.8353\n"
     ]
    }
   ],
   "source": [
    "history1 = model1.fit(train_ds, validation_data=val_ds, epochs=5, callbacks=[es, cp])"
   ]
  },
  {
   "cell_type": "code",
   "execution_count": 7,
   "id": "97aaac41-c8a3-409d-8c44-58e47fd4cd2b",
   "metadata": {
    "tags": []
   },
   "outputs": [],
   "source": [
    "# The saved model can later be loaded using \n",
    "model1 = keras.models.load_model('model1_checkpoint.keras')"
   ]
  },
  {
   "cell_type": "code",
   "execution_count": 8,
   "id": "4eaf7e7d-595c-4b6b-acb3-7df17896dc4b",
   "metadata": {
    "tags": []
   },
   "outputs": [
    {
     "name": "stdout",
     "output_type": "stream",
     "text": [
      "Model: \"sequential\"\n",
      "_________________________________________________________________\n",
      " Layer (type)                Output Shape              Param #   \n",
      "=================================================================\n",
      " conv2d (Conv2D)             (None, 254, 254, 32)      896       \n",
      "                                                                 \n",
      " max_pooling2d (MaxPooling2  (None, 127, 127, 32)      0         \n",
      " D)                                                              \n",
      "                                                                 \n",
      " conv2d_1 (Conv2D)           (None, 125, 125, 64)      18496     \n",
      "                                                                 \n",
      " max_pooling2d_1 (MaxPoolin  (None, 62, 62, 64)        0         \n",
      " g2D)                                                            \n",
      "                                                                 \n",
      " conv2d_2 (Conv2D)           (None, 60, 60, 128)       73856     \n",
      "                                                                 \n",
      " max_pooling2d_2 (MaxPoolin  (None, 30, 30, 128)       0         \n",
      " g2D)                                                            \n",
      "                                                                 \n",
      " flatten (Flatten)           (None, 115200)            0         \n",
      "                                                                 \n",
      " dense (Dense)               (None, 1)                 115201    \n",
      "                                                                 \n",
      "=================================================================\n",
      "Total params: 208449 (814.25 KB)\n",
      "Trainable params: 208449 (814.25 KB)\n",
      "Non-trainable params: 0 (0.00 Byte)\n",
      "_________________________________________________________________\n"
     ]
    }
   ],
   "source": [
    "model1.summary()"
   ]
  },
  {
   "cell_type": "code",
   "execution_count": 9,
   "id": "5063548d-e97e-4ec7-9334-3cf54ad23a48",
   "metadata": {
    "tags": []
   },
   "outputs": [
    {
     "ename": "NameError",
     "evalue": "name 'history' is not defined",
     "output_type": "error",
     "traceback": [
      "\u001b[1;31m---------------------------------------------------------------------------\u001b[0m",
      "\u001b[1;31mNameError\u001b[0m                                 Traceback (most recent call last)",
      "Cell \u001b[1;32mIn[9], line 3\u001b[0m\n\u001b[0;32m      1\u001b[0m \u001b[38;5;66;03m# Check out the plot of loss vs epoch. How's our model?\u001b[39;00m\n\u001b[0;32m      2\u001b[0m plt\u001b[38;5;241m.\u001b[39mfigure(figsize\u001b[38;5;241m=\u001b[39m(\u001b[38;5;241m12\u001b[39m, \u001b[38;5;241m6\u001b[39m))\n\u001b[1;32m----> 3\u001b[0m plt\u001b[38;5;241m.\u001b[39mplot(history\u001b[38;5;241m.\u001b[39mhistory[\u001b[38;5;124m'\u001b[39m\u001b[38;5;124mloss\u001b[39m\u001b[38;5;124m'\u001b[39m], c\u001b[38;5;241m=\u001b[39m\u001b[38;5;124m'\u001b[39m\u001b[38;5;124mnavy\u001b[39m\u001b[38;5;124m'\u001b[39m, label\u001b[38;5;241m=\u001b[39m\u001b[38;5;124m'\u001b[39m\u001b[38;5;124mTraining Loss\u001b[39m\u001b[38;5;124m'\u001b[39m)\n\u001b[0;32m      4\u001b[0m plt\u001b[38;5;241m.\u001b[39mplot(history\u001b[38;5;241m.\u001b[39mhistory[\u001b[38;5;124m'\u001b[39m\u001b[38;5;124mval_loss\u001b[39m\u001b[38;5;124m'\u001b[39m], c\u001b[38;5;241m=\u001b[39m\u001b[38;5;124m'\u001b[39m\u001b[38;5;124mskyblue\u001b[39m\u001b[38;5;124m'\u001b[39m, label\u001b[38;5;241m=\u001b[39m\u001b[38;5;124m'\u001b[39m\u001b[38;5;124mValidation Loss\u001b[39m\u001b[38;5;124m'\u001b[39m)\n\u001b[0;32m      5\u001b[0m plt\u001b[38;5;241m.\u001b[39mlegend()\n",
      "\u001b[1;31mNameError\u001b[0m: name 'history' is not defined"
     ]
    },
    {
     "data": {
      "text/plain": [
       "<Figure size 1200x600 with 0 Axes>"
      ]
     },
     "metadata": {},
     "output_type": "display_data"
    }
   ],
   "source": [
    "# Check out the plot of loss vs epoch. How's our model?\n",
    "plt.figure(figsize=(12, 6))\n",
    "plt.plot(history.history['loss'], c='navy', label='Training Loss')\n",
    "plt.plot(history.history['val_loss'], c='skyblue', label='Validation Loss')\n",
    "plt.legend();"
   ]
  }
 ],
 "metadata": {
  "kernelspec": {
   "display_name": "Python 3 (ipykernel)",
   "language": "python",
   "name": "python3"
  },
  "language_info": {
   "codemirror_mode": {
    "name": "ipython",
    "version": 3
   },
   "file_extension": ".py",
   "mimetype": "text/x-python",
   "name": "python",
   "nbconvert_exporter": "python",
   "pygments_lexer": "ipython3",
   "version": "3.11.5"
  }
 },
 "nbformat": 4,
 "nbformat_minor": 5
}
