{
 "cells": [
  {
   "cell_type": "code",
   "execution_count": 1,
   "id": "a8eb483d-d1cb-4d2a-bf6d-7d5103b1aa60",
   "metadata": {
    "tags": []
   },
   "outputs": [
    {
     "name": "stdout",
     "output_type": "stream",
     "text": [
      "WARNING:tensorflow:From C:\\Users\\johng\\anaconda3\\Lib\\site-packages\\keras\\src\\losses.py:2976: The name tf.losses.sparse_softmax_cross_entropy is deprecated. Please use tf.compat.v1.losses.sparse_softmax_cross_entropy instead.\n",
      "\n"
     ]
    }
   ],
   "source": [
    "import os\n",
    "import shutil\n",
    "\n",
    "import numpy as np\n",
    "import pandas as pd\n",
    "import matplotlib.pyplot as plt\n",
    "\n",
    "from tensorflow import keras\n",
    "from tensorflow.keras.layers import Conv2D, MaxPooling2D, Flatten, Dense, Dropout\n",
    "from tensorflow.keras.callbacks import ModelCheckpoint, EarlyStopping\n",
    "from tensorflow.keras.utils import image_dataset_from_directory"
   ]
  },
  {
   "cell_type": "code",
   "execution_count": 2,
   "id": "804c8735-eea0-47d8-8274-cc53bba152a7",
   "metadata": {
    "tags": []
   },
   "outputs": [
    {
     "name": "stdout",
     "output_type": "stream",
     "text": [
      "Found 378307 files belonging to 2 classes.\n",
      "Using 264815 files for training.\n",
      "Found 378307 files belonging to 2 classes.\n",
      "Using 113492 files for validation.\n"
     ]
    }
   ],
   "source": [
    "train_ds = image_dataset_from_directory(\n",
    "    'data/tiled_images/keras',\n",
    "    batch_size=32,\n",
    "    subset='training',\n",
    "    seed=123,\n",
    "    validation_split=0.3\n",
    ").map(lambda x, y: (x/255, y))\n",
    "\n",
    "val_ds = image_dataset_from_directory(\n",
    "    'data/tiled_images/keras',\n",
    "    batch_size=32,\n",
    "    subset='validation',\n",
    "    seed=123,\n",
    "    validation_split=0.3\n",
    ").map(lambda x, y: (x/255, y))"
   ]
  },
  {
   "cell_type": "code",
   "execution_count": 3,
   "id": "dbc151fe-723d-4d71-9eae-3135f287ab35",
   "metadata": {
    "jupyter": {
     "source_hidden": true
    },
    "tags": []
   },
   "outputs": [],
   "source": [
    "# train_ds = image_dataset_from_directory(\n",
    "#     'data/keras_subset',\n",
    "#     batch_size=32,\n",
    "#     subset='training',\n",
    "#     seed=123,\n",
    "#     validation_split=0.2\n",
    "# ).map(lambda x, y: (x/255, y))\n",
    "\n",
    "# val_ds = image_dataset_from_directory(\n",
    "#     'data/keras_subset',\n",
    "#     batch_size=32,\n",
    "#     subset='validation',\n",
    "#     seed=123,\n",
    "#     validation_split=0.2\n",
    "# ).map(lambda x, y: (x/255, y))"
   ]
  },
  {
   "cell_type": "code",
   "execution_count": 6,
   "id": "d6e110e1-506f-4261-8695-9363f4dcf7d6",
   "metadata": {
    "tags": []
   },
   "outputs": [],
   "source": [
    "model1 = keras.models.Sequential([\n",
    "    Conv2D(32, 3, activation='relu', input_shape=(256, 256, 3)),\n",
    "    MaxPooling2D(2),\n",
    "    Conv2D(64, 3, activation='relu'),\n",
    "    MaxPooling2D(2),\n",
    "    Conv2D(128, 3, activation='relu'),\n",
    "    MaxPooling2D(2),    \n",
    "    Flatten(),\n",
    "    Dense(1, activation='sigmoid')\n",
    "])\n",
    "\n",
    "es = EarlyStopping(monitor = 'val_loss', patience = 3)\n",
    "cp = ModelCheckpoint(filepath='model1_checkpoint.keras', monitor='val_acc', save_best_only=True, mode='max', verbose=1)\n",
    "\n",
    "model1.compile(loss='bce', optimizer='Adam', metrics=['acc'])"
   ]
  },
  {
   "cell_type": "code",
   "execution_count": null,
   "id": "6eb7cb7c-e0e6-46f5-b0bf-119506110cdb",
   "metadata": {
    "tags": []
   },
   "outputs": [
    {
     "name": "stdout",
     "output_type": "stream",
     "text": [
      "Epoch 1/20\n",
      "8276/8276 [==============================] - ETA: 0s - loss: 0.5113 - acc: 0.7547\n",
      "Epoch 1: val_acc improved from -inf to 0.80592, saving model to model1_checkpoint.keras\n",
      "8276/8276 [==============================] - 5299s 640ms/step - loss: 0.5113 - acc: 0.7547 - val_loss: 0.4461 - val_acc: 0.8059\n",
      "Epoch 2/20\n",
      "3979/8276 [=============>................] - ETA: 43:26 - loss: 0.4518 - acc: 0.8012"
     ]
    }
   ],
   "source": [
    "history1 = model1.fit(train_ds, validation_data=val_ds, epochs=20, callbacks=[es, cp])"
   ]
  },
  {
   "cell_type": "code",
   "execution_count": null,
   "id": "97aaac41-c8a3-409d-8c44-58e47fd4cd2b",
   "metadata": {
    "tags": []
   },
   "outputs": [],
   "source": [
    "# The saved model can later be loaded using \n",
    "model1 = keras.models.load_model('model1_checkpoint.keras')"
   ]
  },
  {
   "cell_type": "code",
   "execution_count": null,
   "id": "4eaf7e7d-595c-4b6b-acb3-7df17896dc4b",
   "metadata": {
    "tags": []
   },
   "outputs": [],
   "source": [
    "model1.summary()"
   ]
  },
  {
   "cell_type": "code",
   "execution_count": null,
   "id": "5063548d-e97e-4ec7-9334-3cf54ad23a48",
   "metadata": {
    "tags": []
   },
   "outputs": [],
   "source": [
    "# Check out the plot of loss vs epoch. How's our model?\n",
    "plt.figure(figsize=(12, 6))\n",
    "plt.plot(history.history1['loss'], c='navy', label='Training Loss')\n",
    "plt.plot(history.history1['val_loss'], c='skyblue', label='Validation Loss')\n",
    "plt.legend();"
   ]
  }
 ],
 "metadata": {
  "kernelspec": {
   "display_name": "Python 3 (ipykernel)",
   "language": "python",
   "name": "python3"
  },
  "language_info": {
   "codemirror_mode": {
    "name": "ipython",
    "version": 3
   },
   "file_extension": ".py",
   "mimetype": "text/x-python",
   "name": "python",
   "nbconvert_exporter": "python",
   "pygments_lexer": "ipython3",
   "version": "3.11.5"
  }
 },
 "nbformat": 4,
 "nbformat_minor": 5
}
