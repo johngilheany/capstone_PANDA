{
 "cells": [
  {
   "cell_type": "code",
   "execution_count": 3,
   "id": "4fb40f01-ffe7-47f4-b686-7f0b6305cbe8",
   "metadata": {
    "tags": []
   },
   "outputs": [],
   "source": [
    "# https://www.kaggle.com/code/tabrom/group3-panda-tiling/notebook\n",
    "# Based on https://www.kaggle.com/code/iafoss/panda-16x128x128-tiles"
   ]
  },
  {
   "cell_type": "markdown",
   "id": "82524401-581d-48bc-bb8f-0a2be0ac2e97",
   "metadata": {},
   "source": [
    "### Per WSI, create a square image of N tiles, based on number of tissue pixels (and their darkness).¶"
   ]
  },
  {
   "cell_type": "code",
   "execution_count": 4,
   "id": "8b81c643-52ee-486a-ab2e-5ae7b1f4eb00",
   "metadata": {
    "tags": []
   },
   "outputs": [],
   "source": [
    "# The path can also be read from a config file, etc.\n",
    "OPENSLIDE_PATH = r'C:\\Users\\johng\\Downloads\\openslide-win64-20231011\\bin'\n",
    "\n",
    "import os\n",
    "if hasattr(os, 'add_dll_directory'):\n",
    "    # Windows\n",
    "    with os.add_dll_directory(OPENSLIDE_PATH):\n",
    "        import openslide\n",
    "else:\n",
    "    import openslide\n",
    "    \n",
    "import sys\n",
    "import numpy as np # linear algebra\n",
    "import pandas as pd # data processing, CSV file I/O (e.g. pd.read_csv)\n",
    "import matplotlib\n",
    "import matplotlib.pyplot as plt \n",
    "import PIL\n",
    "from IPython.display import Image, display\n",
    "import skimage.io\n",
    "# import tifffile\n",
    "from tqdm.notebook import tqdm\n",
    "import zipfile\n",
    "import cv2 as cv"
   ]
  },
  {
   "cell_type": "code",
   "execution_count": 5,
   "id": "7bbaca43-e216-4b85-a14b-3a035e108a7e",
   "metadata": {
    "tags": []
   },
   "outputs": [],
   "source": [
    "# Location of the files\n",
    "data_dir = 'train_images'\n",
    "mask_dir = 'train_label_masks/'\n",
    "out_dir = 'tiled_images/'\n",
    "if not os.path.exists(out_dir):\n",
    "    os.makedirs(out_dir)\n",
    "# Location of training labels\n",
    "samples = pd.read_csv('train.csv')"
   ]
  },
  {
   "cell_type": "code",
   "execution_count": 6,
   "id": "3f208dd5-a341-436d-8c53-fd03adbef827",
   "metadata": {
    "tags": []
   },
   "outputs": [],
   "source": [
    "## Takes an openslide object and returns the top left coordinates of N tiles (of a given size) with the most tissue pixels. \n",
    "\n",
    "# Note: slide.level_dimensions[level] = (width,height).\n",
    "# Note: padding is done to the right and bottom, this is to keep it simple while having at most 1 tile in memory at a time.\n",
    "def get_tile_locations_from_slide(slide, tile_size, N, level):\n",
    "    tiles = []\n",
    "    required_padding = False\n",
    "    xlocs, ylocs = np.arange(0, slide.level_dimensions[level][0], tile_size), np.arange(0, slide.level_dimensions[level][1], tile_size) # Get the coordinates of the top left corners of the tiles.\n",
    "    for x_i, xloc in enumerate(xlocs):\n",
    "        for y_i, yloc in enumerate(ylocs):\n",
    "            region = np.copy(slide.read_region((xloc*(4**level),yloc*(4**level)), level, (tile_size,tile_size))) # The position is wrt. level 0, so must convert to level 0 coordinates by multiplying by the downsampling factor.\n",
    "            region_arr = np.asarray(region)[:,:,:3] # Ignore the alpha channel\n",
    "            if xloc+tile_size > slide.level_dimensions[level][0] or yloc+tile_size > slide.level_dimensions[level][1]: # if the tile goes out of bounds\n",
    "                region_arr[region_arr==0] = 255\n",
    "                required_padding = True\n",
    "            pixel_sum = region_arr.sum()\n",
    "            tiles.append({'xloc': xloc, 'yloc': yloc, 'pixel_sum': pixel_sum, 'required_padding': required_padding}) # store top left corner location and the tile's pixel_sum\n",
    "            required_padding = False\n",
    "    sorted_tiles = sorted(tiles, key= lambda d: d['pixel_sum']) # Sort tiles based on their pixel_sum field\n",
    "    sorted_tiles = sorted_tiles[:N] # Get top N tiles\n",
    "    return sorted_tiles"
   ]
  },
  {
   "cell_type": "code",
   "execution_count": 7,
   "id": "da5be927-fc9b-4480-88e1-465194c37319",
   "metadata": {
    "tags": []
   },
   "outputs": [],
   "source": [
    "# Creates a single image (array) from the selected tiles\n",
    "def create_tiled_image(slide, tiles, tile_size, N_tiles, level):\n",
    "    N_side = int(np.sqrt(N_tiles)) # How many tiles is the image wide/tall\n",
    "    tiled_image = np.ones((N_side*tile_size,N_side*tile_size,3), dtype=np.uint8)*255\n",
    "    for i, tile in enumerate(tiles):\n",
    "        region = np.copy(np.asarray(slide.read_region((tile['xloc']*(4**level),tile['yloc']*(4**level)), level, (tile_size,tile_size)))) # The position is wrt. level 0, so must convert to level 0 coordinates by multiplying by the downsampling factor.\n",
    "        if tile['required_padding']:\n",
    "            region[region==0] = 255\n",
    "        tiled_image[tile_size*(i//(N_side)):tile_size*(i//(N_side))+tile_size, tile_size*(i%(N_side)) : tile_size*(i%(N_side))+tile_size, :] = region[:,:,:3]\n",
    "    return tiled_image"
   ]
  },
  {
   "cell_type": "code",
   "execution_count": 8,
   "id": "ded6b705-b951-4406-a425-6a57c2f6b12c",
   "metadata": {
    "tags": []
   },
   "outputs": [],
   "source": [
    "def save_img(img, filename, folder):\n",
    "    if not os.path.exists(output_folder):\n",
    "        os.makedirs(folder)\n",
    "    encoded_img = cv.imencode('.png', img)[1]\n",
    "    print(f'Saving to: {os.path.join(folder, filename+\"_tiled.png\")}')\n",
    "    cv.imwrite(os.path.join(folder, filename+\"_tiled.png\"), img)\n",
    "    \n",
    "def save_img_to_zip(img, filename, zip_file):\n",
    "    encoded_img = cv.imencode('.png', img)[1]\n",
    "    zip_file.writestr(filename+'_tiled.png', encoded_img)"
   ]
  },
  {
   "cell_type": "code",
   "execution_count": 9,
   "id": "00db0bb9-b533-4e55-8c44-58ca85aba246",
   "metadata": {
    "tags": []
   },
   "outputs": [],
   "source": [
    "## Plots the selected slices over the original slide.\n",
    "def show_tile_locations(slide, tiles, tile_size, level, is_mask=False, data_provider='radboud'):\n",
    "    wsi = slide.read_region((0,0), level, slide.level_dimensions[level]) # Get whole slide image pixel values\n",
    "    wsi = np.asarray(wsi)[:,:,:3] # Convert to array (optional) and ignore alpha channel\n",
    "    if is_mask:\n",
    "        wsi = color_code_mask(wsi,data_provider, level)\n",
    "    fig, ax = plt.subplots()\n",
    "    ax.imshow(wsi)\n",
    "    for tile in tiles: # Draw the tiles\n",
    "        rect = matplotlib.patches.Rectangle((tile['xloc'],tile['yloc']),tile_size,tile_size, linewidth=1, edgecolor='b', facecolor='none')\n",
    "        ax.add_patch(rect)\n",
    "    plt.show()"
   ]
  },
  {
   "cell_type": "code",
   "execution_count": 10,
   "id": "4d7389ff-c470-402f-a904-1c71e0f91b17",
   "metadata": {
    "tags": []
   },
   "outputs": [],
   "source": [
    "def color_code_mask(mask, data_provider:str, level:int):\n",
    "    mask = np.copy(mask)\n",
    "    # Set background to white\n",
    "    mask[mask==0] = 255\n",
    "    mask_data = mask[:,:,0]\n",
    "    if data_provider == 'radboud':\n",
    "        # Stroma\n",
    "        mask[:,:,:][mask_data==1] = 200\n",
    "        # healthy/Benign\n",
    "        mask[:,:,:][mask_data==2] = 150\n",
    "        # Cancerous (Gleason 3)\n",
    "        mask[:,:,1:3][mask_data==3] = 75\n",
    "        mask[:,:,0][mask_data==3] = 170\n",
    "        # Cancerous (Gleason 4)\n",
    "        mask[:,:,1:3][mask_data==4] = 25\n",
    "        mask[:,:,0][mask_data==4] = 200\n",
    "        # Cancerous (Gleason 5)\n",
    "        mask[:,:,1:3][mask_data==5] = 0\n",
    "        mask[:,:,0][mask_data==5] = 255\n",
    "    elif data_provider == 'karolinska':\n",
    "        # Benign\n",
    "        mask[:,:,:][mask_data==1] = 200\n",
    "        # Cancerous\n",
    "        mask[:,:,1:3][mask_data==2] = 75\n",
    "        mask[:,:,0][mask_data==2] = 255\n",
    "    return mask"
   ]
  },
  {
   "cell_type": "code",
   "execution_count": 11,
   "id": "a20a6364-fd75-48b6-9c26-b6670532ec33",
   "metadata": {
    "tags": []
   },
   "outputs": [],
   "source": [
    "## Plots the selected slices over the original slide.\n",
    "def show_tile_locations(slide, tiles, tile_size, level, is_mask=False, data_provider='radboud'):\n",
    "    wsi = slide.read_region((0,0), level, slide.level_dimensions[level]) # Get whole slide image pixel values\n",
    "    wsi = np.asarray(wsi)[:,:,:3] # Convert to array (optional) and ignore alpha channel\n",
    "    if is_mask:\n",
    "        wsi = color_code_mask(wsi,data_provider, level)\n",
    "    fig, ax = plt.subplots()\n",
    "    ax.imshow(wsi)\n",
    "    for tile in tiles: # Draw the tiles\n",
    "        rect = matplotlib.patches.Rectangle((tile['xloc'],tile['yloc']),tile_size,tile_size, linewidth=1, edgecolor='b', facecolor='none')\n",
    "        ax.add_patch(rect)\n",
    "    plt.show()"
   ]
  },
  {
   "cell_type": "code",
   "execution_count": 12,
   "id": "463e2d17-a493-46f9-93f0-13e394a49778",
   "metadata": {
    "tags": []
   },
   "outputs": [],
   "source": [
    "## Plots the selected slices over the original slide.\n",
    "def save_tile_locations_plots(slide, mask, tiled_image, tiles, tile_size, level, data_provider, isup_grade, file_name, show=False):\n",
    "    wsi = slide.read_region((0,0), level, slide.level_dimensions[level]) # Get whole slide image pixel values\n",
    "    wsi = np.asarray(wsi)[:,:,:3] # Convert to array (optional) and ignore alpha channel\n",
    "    mask = mask.read_region((0,0), level, slide.level_dimensions[level])\n",
    "    mask = np.asarray(mask)[:,:,:3] # Convert to array (optional) and ignore alpha channel\n",
    "    mask = color_code_mask(mask,data_provider, level)\n",
    "    fig, (ax_slide, ax_mask, ax_tiled_image) = plt.subplots(1,3, figsize=(22,10))\n",
    "#     plt.suptitle(f\"ISUP grade: {isup_grade}\")\n",
    "    ax_slide.imshow(wsi)\n",
    "    ax_slide.set_title(\"WSI with tiles\")\n",
    "    for tile in tiles: # Draw the tiles\n",
    "        rect = matplotlib.patches.Rectangle((tile['xloc'],tile['yloc']),tile_size,tile_size, linewidth=1, edgecolor='b', facecolor='none')\n",
    "        ax_slide.add_patch(rect)\n",
    "    ax_mask.imshow(mask)\n",
    "    ax_mask.set_title(\"Mask with tiles\")\n",
    "    for tile in tiles: # Draw the tiles\n",
    "        rect = matplotlib.patches.Rectangle((tile['xloc'],tile['yloc']),tile_size,tile_size, linewidth=1, edgecolor='b', facecolor='none')\n",
    "        ax_mask.add_patch(rect)\n",
    "    ax_tiled_image.imshow(tiled_image)\n",
    "    ax_tiled_image.set_title(\"Extracted tiles\")\n",
    "    if show:\n",
    "        plt.show()\n",
    "    plt.savefig(file_name+\".png\", facecolor='white', transparent=False)\n",
    "    plt.close()"
   ]
  },
  {
   "cell_type": "code",
   "execution_count": 13,
   "id": "1e5c4b30-867f-4c3b-be76-7678154d2b62",
   "metadata": {
    "collapsed": true,
    "jupyter": {
     "outputs_hidden": true
    },
    "tags": []
   },
   "outputs": [
    {
     "data": {
      "application/vnd.jupyter.widget-view+json": {
       "model_id": "13155d4df59a4a4988bd17f0d1d05bea",
       "version_major": 2,
       "version_minor": 0
      },
      "text/plain": [
       "  0%|          | 0/150 [00:00<?, ?it/s]"
      ]
     },
     "metadata": {},
     "output_type": "display_data"
    },
    {
     "ename": "OpenSlideUnsupportedFormatError",
     "evalue": "Unsupported or missing image file",
     "output_type": "error",
     "traceback": [
      "\u001b[1;31m---------------------------------------------------------------------------\u001b[0m",
      "\u001b[1;31mOpenSlideUnsupportedFormatError\u001b[0m           Traceback (most recent call last)",
      "Cell \u001b[1;32mIn[13], line 19\u001b[0m\n\u001b[0;32m     17\u001b[0m data_provider \u001b[38;5;241m=\u001b[39m sample\u001b[38;5;241m.\u001b[39mloc[\u001b[38;5;124m'\u001b[39m\u001b[38;5;124mdata_provider\u001b[39m\u001b[38;5;124m'\u001b[39m]\n\u001b[0;32m     18\u001b[0m slide \u001b[38;5;241m=\u001b[39m openslide\u001b[38;5;241m.\u001b[39mOpenSlide(os\u001b[38;5;241m.\u001b[39mpath\u001b[38;5;241m.\u001b[39mjoin(data_dir, file_name\u001b[38;5;241m+\u001b[39m\u001b[38;5;124m'\u001b[39m\u001b[38;5;124m.tiff\u001b[39m\u001b[38;5;124m'\u001b[39m))\n\u001b[1;32m---> 19\u001b[0m mask \u001b[38;5;241m=\u001b[39m openslide\u001b[38;5;241m.\u001b[39mOpenSlide(os\u001b[38;5;241m.\u001b[39mpath\u001b[38;5;241m.\u001b[39mjoin(mask_dir, file_name\u001b[38;5;241m+\u001b[39m\u001b[38;5;124m'\u001b[39m\u001b[38;5;124m_mask.tiff\u001b[39m\u001b[38;5;124m'\u001b[39m))\n\u001b[0;32m     21\u001b[0m tiles \u001b[38;5;241m=\u001b[39m get_tile_locations_from_slide(slide, tile_size, N_tiles, level) \u001b[38;5;66;03m# Get tile coordinates of top N tiles\u001b[39;00m\n\u001b[0;32m     22\u001b[0m tiled_image \u001b[38;5;241m=\u001b[39m create_tiled_image(slide, tiles, tile_size, N_tiles, level) \u001b[38;5;66;03m# Convert the tiles information into a tiled image\u001b[39;00m\n",
      "File \u001b[1;32m~\\anaconda3\\Lib\\site-packages\\openslide\\__init__.py:179\u001b[0m, in \u001b[0;36mOpenSlide.__init__\u001b[1;34m(self, filename)\u001b[0m\n\u001b[0;32m    177\u001b[0m AbstractSlide\u001b[38;5;241m.\u001b[39m\u001b[38;5;21m__init__\u001b[39m(\u001b[38;5;28mself\u001b[39m)\n\u001b[0;32m    178\u001b[0m \u001b[38;5;28mself\u001b[39m\u001b[38;5;241m.\u001b[39m_filename \u001b[38;5;241m=\u001b[39m filename\n\u001b[1;32m--> 179\u001b[0m \u001b[38;5;28mself\u001b[39m\u001b[38;5;241m.\u001b[39m_osr \u001b[38;5;241m=\u001b[39m lowlevel\u001b[38;5;241m.\u001b[39mopen(\u001b[38;5;28mstr\u001b[39m(filename))\n\u001b[0;32m    180\u001b[0m \u001b[38;5;28;01mif\u001b[39;00m lowlevel\u001b[38;5;241m.\u001b[39mread_icc_profile\u001b[38;5;241m.\u001b[39mavailable:\n\u001b[0;32m    181\u001b[0m     \u001b[38;5;28mself\u001b[39m\u001b[38;5;241m.\u001b[39m_profile \u001b[38;5;241m=\u001b[39m lowlevel\u001b[38;5;241m.\u001b[39mread_icc_profile(\u001b[38;5;28mself\u001b[39m\u001b[38;5;241m.\u001b[39m_osr)\n",
      "File \u001b[1;32m~\\anaconda3\\Lib\\site-packages\\openslide\\lowlevel.py:203\u001b[0m, in \u001b[0;36m_check_open\u001b[1;34m(result, _func, _args)\u001b[0m\n\u001b[0;32m    201\u001b[0m \u001b[38;5;28;01mdef\u001b[39;00m \u001b[38;5;21m_check_open\u001b[39m(result, _func, _args):\n\u001b[0;32m    202\u001b[0m     \u001b[38;5;28;01mif\u001b[39;00m result \u001b[38;5;129;01mis\u001b[39;00m \u001b[38;5;28;01mNone\u001b[39;00m:\n\u001b[1;32m--> 203\u001b[0m         \u001b[38;5;28;01mraise\u001b[39;00m OpenSlideUnsupportedFormatError(\u001b[38;5;124m\"\u001b[39m\u001b[38;5;124mUnsupported or missing image file\u001b[39m\u001b[38;5;124m\"\u001b[39m)\n\u001b[0;32m    204\u001b[0m     slide \u001b[38;5;241m=\u001b[39m _OpenSlide(c_void_p(result))\n\u001b[0;32m    205\u001b[0m     err \u001b[38;5;241m=\u001b[39m get_error(slide)\n",
      "\u001b[1;31mOpenSlideUnsupportedFormatError\u001b[0m: Unsupported or missing image file"
     ]
    }
   ],
   "source": [
    "# THE PARAMETERS 🔥\n",
    "N_tiles = 6**2 # Number of tiles per image, should have a whole square root\n",
    "tile_size = 2**8 # Width/height of tile, 2**8 = 256\n",
    "level = 1 # 0 is highest resolution, 2 is lowest resolution, good compromise is level 1\n",
    "output_folder = os.path.join(out_dir, 'tiled_images')\n",
    "plot_output = False\n",
    "Y = 25\n",
    "selected_indices = np.zeros(Y*6)\n",
    "for i, isup_grade in enumerate(range(0,6)):\n",
    "    isup_indices = list(samples[samples['isup_grade']==isup_grade].index)\n",
    "    selected_indices[Y*i:Y*(i+1)]= np.random.choice(isup_indices, Y, replace=False)\n",
    "    \n",
    "\n",
    "for indx in tqdm(selected_indices):\n",
    "    sample = samples.iloc[int(indx)]\n",
    "    file_name = sample.loc['image_id']\n",
    "    data_provider = sample.loc['data_provider']\n",
    "    slide = openslide.OpenSlide(os.path.join(data_dir, file_name+'.tiff'))\n",
    "    mask = openslide.OpenSlide(os.path.join(mask_dir, file_name+'_mask.tiff'))\n",
    "\n",
    "    tiles = get_tile_locations_from_slide(slide, tile_size, N_tiles, level) # Get tile coordinates of top N tiles\n",
    "    tiled_image = create_tiled_image(slide, tiles, tile_size, N_tiles, level) # Convert the tiles information into a tiled image\n",
    "\n",
    "    isup_grade = sample.loc['isup_grade']\n",
    "    save_path = os.path.join(out_dir, file_name+f\"_isup{isup_grade}\")\n",
    "    save_tile_locations_plots(slide, mask, tiled_image, tiles, tile_size, level, \n",
    "                              data_provider=data_provider, isup_grade=isup_grade, file_name=save_path ,show=plot_output);\n",
    "\n",
    "#     if plot_output:\n",
    "#         show_tile_locations(slide, tiles, tile_size, level) # Plot the tiles over the original slide\n",
    "#         show_tile_locations(mask, tiles, tile_size, level, is_mask=True, data_provider=data_provider) # Plot the tiles over the original mask\n",
    "\n",
    "    slide.close()"
   ]
  },
  {
   "cell_type": "code",
   "execution_count": null,
   "id": "ed3a1faf-fdba-4ef0-85c9-1471cf761063",
   "metadata": {},
   "outputs": [],
   "source": [
    "# !zip -r tile_placements.zip /kaggle/working/tiled_images/\n",
    "# from IPython.display import FileLink \n",
    "# os.chdir(r'/kaggle/working')\n",
    "# FileLink(r'tile_placements.zip')"
   ]
  }
 ],
 "metadata": {
  "kernelspec": {
   "display_name": "Python 3 (ipykernel)",
   "language": "python",
   "name": "python3"
  },
  "language_info": {
   "codemirror_mode": {
    "name": "ipython",
    "version": 3
   },
   "file_extension": ".py",
   "mimetype": "text/x-python",
   "name": "python",
   "nbconvert_exporter": "python",
   "pygments_lexer": "ipython3",
   "version": "3.11.5"
  }
 },
 "nbformat": 4,
 "nbformat_minor": 5
}
